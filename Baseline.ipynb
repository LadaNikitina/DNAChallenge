{
 "cells": [
  {
   "cell_type": "code",
   "execution_count": 1,
   "id": "a35bfcb1-3474-4b63-b08b-774ef4782f18",
   "metadata": {},
   "outputs": [
    {
     "ename": "ModuleNotFoundError",
     "evalue": "No module named 'torch'",
     "output_type": "error",
     "traceback": [
      "\u001b[1;31m---------------------------------------------------------------------------\u001b[0m",
      "\u001b[1;31mModuleNotFoundError\u001b[0m                       Traceback (most recent call last)",
      "Cell \u001b[1;32mIn[1], line 1\u001b[0m\n\u001b[1;32m----> 1\u001b[0m \u001b[38;5;28;01mimport\u001b[39;00m \u001b[38;5;21;01mtorch\u001b[39;00m\n\u001b[0;32m      2\u001b[0m \u001b[38;5;28;01mfrom\u001b[39;00m \u001b[38;5;21;01mtorch\u001b[39;00m\u001b[38;5;21;01m.\u001b[39;00m\u001b[38;5;21;01mutils\u001b[39;00m\u001b[38;5;21;01m.\u001b[39;00m\u001b[38;5;21;01mdata\u001b[39;00m \u001b[38;5;28;01mimport\u001b[39;00m Dataset, DataLoader\n\u001b[0;32m      3\u001b[0m \u001b[38;5;28;01mfrom\u001b[39;00m \u001b[38;5;21;01mdatasets\u001b[39;00m \u001b[38;5;28;01mimport\u001b[39;00m load_dataset\n",
      "\u001b[1;31mModuleNotFoundError\u001b[0m: No module named 'torch'"
     ]
    }
   ],
   "source": [
    "import torch\n",
    "from torch.utils.data import Dataset, DataLoader\n",
    "from datasets import load_dataset\n",
    "from sklearn.model_selection import train_test_split"
   ]
  },
  {
   "cell_type": "code",
   "execution_count": null,
   "id": "d7b77dd8-79f1-49c8-9e25-62203d215da7",
   "metadata": {},
   "outputs": [],
   "source": [
    "# Определение собственного класса Dataset для работы с последовательностями ДНК\n",
    "class NTDataset(Dataset):\n",
    "    def __init__(self, sequences, labels, max_length):\n",
    "        self.sequences = sequences\n",
    "        self.labels = labels\n",
    "        self.max_length = max_length\n",
    "\n",
    "    def __len__(self):\n",
    "        return len(self.sequences)\n",
    "\n",
    "    def __getitem__(self, idx):\n",
    "        sequence = self.sequences[idx]\n",
    "\n",
    "        label = torch.tensor(self.labels[idx], dtype=torch.long)\n",
    "        return sequence, label\n"
   ]
  },
  {
   "cell_type": "code",
   "execution_count": 2,
   "id": "8873064d-94f3-4e10-a629-ff7ca901384e",
   "metadata": {},
   "outputs": [
    {
     "ename": "SyntaxError",
     "evalue": "expected ':' (3390163303.py, line 1)",
     "output_type": "error",
     "traceback": [
      "\u001b[1;36m  Cell \u001b[1;32mIn[2], line 1\u001b[1;36m\u001b[0m\n\u001b[1;33m    def load_nucleotide_transformer(batch_size, valid_split=-1, dataset_name='enhancers', split_state=42)\u001b[0m\n\u001b[1;37m                                                                                                         ^\u001b[0m\n\u001b[1;31mSyntaxError\u001b[0m\u001b[1;31m:\u001b[0m expected ':'\n"
     ]
    }
   ],
   "source": [
    "def load_nucleotide_transformer(batch_size, valid_split=-1, dataset_name='enhancers', split_state=42)\n",
    "    # Загружаем тренировочный и тестовый наборы данных\n",
    "    train_dataset = load_dataset(\n",
    "        \"InstaDeepAI/nucleotide_transformer_downstream_tasks\",\n",
    "        dataset_name,\n",
    "        split=\"train\",\n",
    "        streaming=False,\n",
    "    )\n",
    "\n",
    "    test_dataset = load_dataset(\n",
    "        \"InstaDeepAI/nucleotide_transformer_downstream_tasks\",\n",
    "        dataset_name,\n",
    "        split=\"test\",\n",
    "        streaming=False,\n",
    "    )\n",
    "\n",
    "    # Извлекаем последовательности и метки\n",
    "    train_sequences = train_dataset['sequence']\n",
    "    train_labels = train_dataset['label']\n",
    "\n",
    "    # Если указано разделение на валидационный набор, разбиваем тренировочные данные\n",
    "    if valid_split > 0:\n",
    "        train_sequences, validation_sequences, train_labels, validation_labels = train_test_split(\n",
    "            train_sequences, train_labels, test_size=valid_split, random_state=split_state\n",
    "        )\n",
    "\n",
    "    test_sequences = test_dataset['sequence']\n",
    "    test_labels = test_dataset['label']\n",
    "\n",
    "    # Создаем объекты класса NTDataset\n",
    "    train_dataset = NTDataset(train_sequences, train_labels, max_length)\n",
    "    test_dataset = NTDataset(test_sequences, test_labels, max_length)\n",
    "\n",
    "    # Создаем DataLoader'ы для обучения и тестирования\n",
    "    train_loader = DataLoader(train_dataset, batch_size=batch_size, shuffle=True)\n",
    "    test_loader = DataLoader(test_dataset, batch_size=batch_size, shuffle=False)\n",
    "\n",
    "    # Создаем DataLoader для валидации, если есть разделение\n",
    "    if valid_split > 0:\n",
    "        validation_dataset = NTDataset(validation_sequences, validation_labels, max_length)\n",
    "        valid_loader = DataLoader(validation_dataset, batch_size=batch_size, shuffle=False)\n",
    "        print(f\"Train: {len(train_loader.dataset)}, Validation: {len(valid_loader.dataset)}, Test: {len(test_loader.dataset)}\")\n",
    "        return train_loader, valid_loader, test_loader\n",
    "\n",
    "    # Если нет разделения на валидацию, выводим количество образцов\n",
    "    print(f\"Train: {len(train_loader.dataset)}, Test: {len(test_loader.dataset)}\")\n",
    "    return train_loader, None, test_loader"
   ]
  },
  {
   "cell_type": "code",
   "execution_count": null,
   "id": "8332527e-3832-4e57-b80a-66303259e6cf",
   "metadata": {},
   "outputs": [],
   "source": []
  }
 ],
 "metadata": {
  "kernelspec": {
   "display_name": "Python 3 (ipykernel)",
   "language": "python",
   "name": "python3"
  },
  "language_info": {
   "codemirror_mode": {
    "name": "ipython",
    "version": 3
   },
   "file_extension": ".py",
   "mimetype": "text/x-python",
   "name": "python",
   "nbconvert_exporter": "python",
   "pygments_lexer": "ipython3",
   "version": "3.12.7"
  }
 },
 "nbformat": 4,
 "nbformat_minor": 5
}
